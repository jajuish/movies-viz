{
 "cells": [
  {
   "cell_type": "code",
   "execution_count": 22,
   "metadata": {},
   "outputs": [],
   "source": [
    "import pandas as pd\n",
    "import matplotlib.pyplot as plt"
   ]
  },
  {
   "cell_type": "code",
   "execution_count": 3,
   "metadata": {},
   "outputs": [
    {
     "data": {
      "text/html": [
       "<div>\n",
       "<style scoped>\n",
       "    .dataframe tbody tr th:only-of-type {\n",
       "        vertical-align: middle;\n",
       "    }\n",
       "\n",
       "    .dataframe tbody tr th {\n",
       "        vertical-align: top;\n",
       "    }\n",
       "\n",
       "    .dataframe thead th {\n",
       "        text-align: right;\n",
       "    }\n",
       "</style>\n",
       "<table border=\"1\" class=\"dataframe\">\n",
       "  <thead>\n",
       "    <tr style=\"text-align: right;\">\n",
       "      <th></th>\n",
       "      <th>Actors</th>\n",
       "      <th>imdbID</th>\n",
       "    </tr>\n",
       "  </thead>\n",
       "  <tbody>\n",
       "    <tr>\n",
       "      <th>143864</th>\n",
       "      <td>Jonathan Lipnicki</td>\n",
       "      <td>tt0164912</td>\n",
       "    </tr>\n",
       "    <tr>\n",
       "      <th>143865</th>\n",
       "      <td>James Woods</td>\n",
       "      <td>tt0146838</td>\n",
       "    </tr>\n",
       "    <tr>\n",
       "      <th>143866</th>\n",
       "      <td>Brittany Colonna</td>\n",
       "      <td>tt0125664</td>\n",
       "    </tr>\n",
       "    <tr>\n",
       "      <th>143867</th>\n",
       "      <td>Tony Shalhoub</td>\n",
       "      <td>tt0177789</td>\n",
       "    </tr>\n",
       "    <tr>\n",
       "      <th>143868</th>\n",
       "      <td>Cate Blanchett</td>\n",
       "      <td>tt0134119</td>\n",
       "    </tr>\n",
       "  </tbody>\n",
       "</table>\n",
       "</div>"
      ],
      "text/plain": [
       "                    Actors     imdbID\n",
       "143864   Jonathan Lipnicki  tt0164912\n",
       "143865         James Woods  tt0146838\n",
       "143866    Brittany Colonna  tt0125664\n",
       "143867       Tony Shalhoub  tt0177789\n",
       "143868      Cate Blanchett  tt0134119"
      ]
     },
     "execution_count": 3,
     "metadata": {},
     "output_type": "execute_result"
    }
   ],
   "source": [
    "actors = pd.read_csv(\"./movies-1990-to-2017/Movie_Actors.csv\")\n",
    "actors = actors.iloc[:,1:]\n",
    "actors.tail()"
   ]
  },
  {
   "cell_type": "code",
   "execution_count": 4,
   "metadata": {},
   "outputs": [
    {
     "data": {
      "text/plain": [
       "Series([], dtype: float64)"
      ]
     },
     "execution_count": 4,
     "metadata": {},
     "output_type": "execute_result"
    }
   ],
   "source": [
    "# checking for any missing values in any of the rows\n",
    "null_columns=actors.columns[actors.isnull().any()]\n",
    "actors[null_columns].isnull().sum()"
   ]
  },
  {
   "cell_type": "code",
   "execution_count": 20,
   "metadata": {},
   "outputs": [
    {
     "data": {
      "text/plain": [
       "' Charles A. Post'"
      ]
     },
     "execution_count": 20,
     "metadata": {},
     "output_type": "execute_result"
    }
   ],
   "source": [
    "actors['Actors'][1]"
   ]
  },
  {
   "cell_type": "code",
   "execution_count": null,
   "metadata": {},
   "outputs": [],
   "source": [
    "# Checking for any repeating values of imdbIDs in actors\n",
    "for i in range(actors.shape[0]):\n",
    "    for j in range(i+1,actors.shape[0]):\n",
    "        if actors['imdbID'][i] == actors['imdbID'][j]:\n",
    "            print(actors['Actors'][i])"
   ]
  },
  {
   "cell_type": "code",
   "execution_count": 5,
   "metadata": {},
   "outputs": [
    {
     "data": {
      "text/html": [
       "<div>\n",
       "<style scoped>\n",
       "    .dataframe tbody tr th:only-of-type {\n",
       "        vertical-align: middle;\n",
       "    }\n",
       "\n",
       "    .dataframe tbody tr th {\n",
       "        vertical-align: top;\n",
       "    }\n",
       "\n",
       "    .dataframe thead th {\n",
       "        text-align: right;\n",
       "    }\n",
       "</style>\n",
       "<table border=\"1\" class=\"dataframe\">\n",
       "  <thead>\n",
       "    <tr style=\"text-align: right;\">\n",
       "      <th></th>\n",
       "      <th>Rating</th>\n",
       "      <th>RatingSource</th>\n",
       "      <th>imdbID</th>\n",
       "    </tr>\n",
       "  </thead>\n",
       "  <tbody>\n",
       "    <tr>\n",
       "      <th>92011</th>\n",
       "      <td>52%</td>\n",
       "      <td>Rotten Tomatoes</td>\n",
       "      <td>tt0145653</td>\n",
       "    </tr>\n",
       "    <tr>\n",
       "      <th>92012</th>\n",
       "      <td>54/100</td>\n",
       "      <td>Metacritic</td>\n",
       "      <td>tt0145653</td>\n",
       "    </tr>\n",
       "    <tr>\n",
       "      <th>92013</th>\n",
       "      <td>7.6/10</td>\n",
       "      <td>Internet Movie Database</td>\n",
       "      <td>tt0174856</td>\n",
       "    </tr>\n",
       "    <tr>\n",
       "      <th>92014</th>\n",
       "      <td>83%</td>\n",
       "      <td>Rotten Tomatoes</td>\n",
       "      <td>tt0174856</td>\n",
       "    </tr>\n",
       "    <tr>\n",
       "      <th>92015</th>\n",
       "      <td>74/100</td>\n",
       "      <td>Metacritic</td>\n",
       "      <td>tt0174856</td>\n",
       "    </tr>\n",
       "  </tbody>\n",
       "</table>\n",
       "</div>"
      ],
      "text/plain": [
       "       Rating             RatingSource     imdbID\n",
       "92011     52%          Rotten Tomatoes  tt0145653\n",
       "92012  54/100               Metacritic  tt0145653\n",
       "92013  7.6/10  Internet Movie Database  tt0174856\n",
       "92014     83%          Rotten Tomatoes  tt0174856\n",
       "92015  74/100               Metacritic  tt0174856"
      ]
     },
     "execution_count": 5,
     "metadata": {},
     "output_type": "execute_result"
    }
   ],
   "source": [
    "rating = pd.read_csv(\"./movies-1990-to-2017/Movie_AdditionalRating.csv\")\n",
    "rating = rating.iloc[:,1:]\n",
    "rating.tail()"
   ]
  },
  {
   "cell_type": "code",
   "execution_count": null,
   "metadata": {},
   "outputs": [],
   "source": []
  },
  {
   "cell_type": "code",
   "execution_count": 6,
   "metadata": {},
   "outputs": [
    {
     "data": {
      "text/plain": [
       "Series([], dtype: float64)"
      ]
     },
     "execution_count": 6,
     "metadata": {},
     "output_type": "execute_result"
    }
   ],
   "source": [
    "# checking for any missing values in any of the rows\n",
    "null_cols = rating.columns[rating.isnull().any()]\n",
    "rating[null_cols].isnull().sum()"
   ]
  },
  {
   "cell_type": "code",
   "execution_count": 7,
   "metadata": {},
   "outputs": [
    {
     "data": {
      "text/html": [
       "<div>\n",
       "<style scoped>\n",
       "    .dataframe tbody tr th:only-of-type {\n",
       "        vertical-align: middle;\n",
       "    }\n",
       "\n",
       "    .dataframe tbody tr th {\n",
       "        vertical-align: top;\n",
       "    }\n",
       "\n",
       "    .dataframe thead th {\n",
       "        text-align: right;\n",
       "    }\n",
       "</style>\n",
       "<table border=\"1\" class=\"dataframe\">\n",
       "  <thead>\n",
       "    <tr style=\"text-align: right;\">\n",
       "      <th></th>\n",
       "      <th>Genre</th>\n",
       "      <th>imdbID</th>\n",
       "    </tr>\n",
       "  </thead>\n",
       "  <tbody>\n",
       "    <tr>\n",
       "      <th>308560</th>\n",
       "      <td>Comedy</td>\n",
       "      <td>tt0177789</td>\n",
       "    </tr>\n",
       "    <tr>\n",
       "      <th>308561</th>\n",
       "      <td>Sci-Fi</td>\n",
       "      <td>tt0177789</td>\n",
       "    </tr>\n",
       "    <tr>\n",
       "      <th>308562</th>\n",
       "      <td>Crime</td>\n",
       "      <td>tt0134119</td>\n",
       "    </tr>\n",
       "    <tr>\n",
       "      <th>308563</th>\n",
       "      <td>Drama</td>\n",
       "      <td>tt0134119</td>\n",
       "    </tr>\n",
       "    <tr>\n",
       "      <th>308564</th>\n",
       "      <td>Thriller</td>\n",
       "      <td>tt0134119</td>\n",
       "    </tr>\n",
       "  </tbody>\n",
       "</table>\n",
       "</div>"
      ],
      "text/plain": [
       "            Genre     imdbID\n",
       "308560     Comedy  tt0177789\n",
       "308561     Sci-Fi  tt0177789\n",
       "308562      Crime  tt0134119\n",
       "308563      Drama  tt0134119\n",
       "308564   Thriller  tt0134119"
      ]
     },
     "execution_count": 7,
     "metadata": {},
     "output_type": "execute_result"
    }
   ],
   "source": [
    "genres = pd.read_csv(\"./movies-1990-to-2017/Movie_Genres.csv\")\n",
    "genres = genres.iloc[:,1:]\n",
    "genres.tail()"
   ]
  },
  {
   "cell_type": "code",
   "execution_count": 8,
   "metadata": {},
   "outputs": [
    {
     "data": {
      "text/plain": [
       "Series([], dtype: float64)"
      ]
     },
     "execution_count": 8,
     "metadata": {},
     "output_type": "execute_result"
    }
   ],
   "source": [
    "# checking for any missing values in any of the rows\n",
    "null_cols = genres.columns[genres.isnull().any()]\n",
    "genres[null_cols].isnull().sum()"
   ]
  },
  {
   "cell_type": "code",
   "execution_count": 9,
   "metadata": {
    "collapsed": true
   },
   "outputs": [
    {
     "name": "stderr",
     "output_type": "stream",
     "text": [
      "/home/ijaju/.local/lib/python3.5/site-packages/IPython/core/interactiveshell.py:2785: DtypeWarning: Columns (18) have mixed types. Specify dtype option on import or set low_memory=False.\n",
      "  interactivity=interactivity, compiler=compiler, result=result)\n"
     ]
    },
    {
     "data": {
      "text/html": [
       "<div>\n",
       "<style scoped>\n",
       "    .dataframe tbody tr th:only-of-type {\n",
       "        vertical-align: middle;\n",
       "    }\n",
       "\n",
       "    .dataframe tbody tr th {\n",
       "        vertical-align: top;\n",
       "    }\n",
       "\n",
       "    .dataframe thead th {\n",
       "        text-align: right;\n",
       "    }\n",
       "</style>\n",
       "<table border=\"1\" class=\"dataframe\">\n",
       "  <thead>\n",
       "    <tr style=\"text-align: right;\">\n",
       "      <th></th>\n",
       "      <th>Awards</th>\n",
       "      <th>BoxOffice</th>\n",
       "      <th>Country</th>\n",
       "      <th>DVD</th>\n",
       "      <th>Director</th>\n",
       "      <th>Language</th>\n",
       "      <th>Metascore</th>\n",
       "      <th>Plot</th>\n",
       "      <th>Poster</th>\n",
       "      <th>Production</th>\n",
       "      <th>...</th>\n",
       "      <th>Released</th>\n",
       "      <th>Response</th>\n",
       "      <th>Runtime</th>\n",
       "      <th>Title</th>\n",
       "      <th>Type</th>\n",
       "      <th>Website</th>\n",
       "      <th>Year</th>\n",
       "      <th>imdbID</th>\n",
       "      <th>imdbRating</th>\n",
       "      <th>imdbVotes</th>\n",
       "    </tr>\n",
       "  </thead>\n",
       "  <tbody>\n",
       "    <tr>\n",
       "      <th>178682</th>\n",
       "      <td>Nominated for 1 Oscar. Another 7 wins &amp; 13 nom...</td>\n",
       "      <td>NaN</td>\n",
       "      <td>Germany, USA</td>\n",
       "      <td>18 Apr 2000</td>\n",
       "      <td>Rob Minkoff</td>\n",
       "      <td>English, Dutch</td>\n",
       "      <td>61.0</td>\n",
       "      <td>The Little family adopt a charming young mouse...</td>\n",
       "      <td>https://images-na.ssl-images-amazon.com/images...</td>\n",
       "      <td>Columbia Pictures</td>\n",
       "      <td>...</td>\n",
       "      <td>17 Dec 1999</td>\n",
       "      <td>True</td>\n",
       "      <td>84 min</td>\n",
       "      <td>Stuart Little</td>\n",
       "      <td>movie</td>\n",
       "      <td>http://www.spe.sony.com/movies/stuartlittle/sp...</td>\n",
       "      <td>1999</td>\n",
       "      <td>tt0164912</td>\n",
       "      <td>5.9</td>\n",
       "      <td>106,665</td>\n",
       "    </tr>\n",
       "    <tr>\n",
       "      <th>178683</th>\n",
       "      <td>3 wins &amp; 9 nominations.</td>\n",
       "      <td>NaN</td>\n",
       "      <td>USA</td>\n",
       "      <td>05 Sep 2000</td>\n",
       "      <td>Oliver Stone</td>\n",
       "      <td>English</td>\n",
       "      <td>52.0</td>\n",
       "      <td>A behind-the-scenes look at the life-and-death...</td>\n",
       "      <td>https://ia.media-imdb.com/images/M/MV5BZDk2YTQ...</td>\n",
       "      <td>Warner Bros. Pictures</td>\n",
       "      <td>...</td>\n",
       "      <td>22 Dec 1999</td>\n",
       "      <td>True</td>\n",
       "      <td>162 min</td>\n",
       "      <td>Any Given Sunday</td>\n",
       "      <td>movie</td>\n",
       "      <td>http://www.anygivensunday.net</td>\n",
       "      <td>1999</td>\n",
       "      <td>tt0146838</td>\n",
       "      <td>6.8</td>\n",
       "      <td>103,302</td>\n",
       "    </tr>\n",
       "    <tr>\n",
       "      <th>178684</th>\n",
       "      <td>Won 1 Golden Globe. Another 4 wins &amp; 23 nomina...</td>\n",
       "      <td>NaN</td>\n",
       "      <td>UK, Germany, Japan, USA</td>\n",
       "      <td>30 May 2000</td>\n",
       "      <td>Milos Forman</td>\n",
       "      <td>English</td>\n",
       "      <td>58.0</td>\n",
       "      <td>The life and career of a legendary comedian, A...</td>\n",
       "      <td>https://ia.media-imdb.com/images/M/MV5BNDI1Mjc...</td>\n",
       "      <td>Universal</td>\n",
       "      <td>...</td>\n",
       "      <td>22 Dec 1999</td>\n",
       "      <td>True</td>\n",
       "      <td>118 min</td>\n",
       "      <td>Man on the Moon</td>\n",
       "      <td>movie</td>\n",
       "      <td>http://www.universalpictures.com/manonthemoon</td>\n",
       "      <td>1999</td>\n",
       "      <td>tt0125664</td>\n",
       "      <td>7.4</td>\n",
       "      <td>110,566</td>\n",
       "    </tr>\n",
       "    <tr>\n",
       "      <th>178685</th>\n",
       "      <td>7 wins &amp; 14 nominations.</td>\n",
       "      <td>NaN</td>\n",
       "      <td>USA</td>\n",
       "      <td>02 May 2000</td>\n",
       "      <td>Dean Parisot</td>\n",
       "      <td>English</td>\n",
       "      <td>70.0</td>\n",
       "      <td>The alumni cast of a space opera television se...</td>\n",
       "      <td>https://ia.media-imdb.com/images/M/MV5BNmZlNTY...</td>\n",
       "      <td>DreamWorks SKG</td>\n",
       "      <td>...</td>\n",
       "      <td>25 Dec 1999</td>\n",
       "      <td>True</td>\n",
       "      <td>102 min</td>\n",
       "      <td>Galaxy Quest</td>\n",
       "      <td>movie</td>\n",
       "      <td>http://www.amazon.com/exec/obidos/subst/video/...</td>\n",
       "      <td>1999</td>\n",
       "      <td>tt0177789</td>\n",
       "      <td>7.3</td>\n",
       "      <td>132,448</td>\n",
       "    </tr>\n",
       "    <tr>\n",
       "      <th>178686</th>\n",
       "      <td>Nominated for 5 Oscars. Another 10 wins &amp; 75 n...</td>\n",
       "      <td>NaN</td>\n",
       "      <td>USA</td>\n",
       "      <td>27 Jun 2000</td>\n",
       "      <td>Anthony Minghella</td>\n",
       "      <td>English, Italian</td>\n",
       "      <td>76.0</td>\n",
       "      <td>In late 1950s New York, Tom Ripley, a young un...</td>\n",
       "      <td>https://images-na.ssl-images-amazon.com/images...</td>\n",
       "      <td>Paramount Pictures</td>\n",
       "      <td>...</td>\n",
       "      <td>25 Dec 1999</td>\n",
       "      <td>True</td>\n",
       "      <td>139 min</td>\n",
       "      <td>The Talented Mr. Ripley</td>\n",
       "      <td>movie</td>\n",
       "      <td>http://www.talentedmrripley.com</td>\n",
       "      <td>1999</td>\n",
       "      <td>tt0134119</td>\n",
       "      <td>7.4</td>\n",
       "      <td>151,938</td>\n",
       "    </tr>\n",
       "  </tbody>\n",
       "</table>\n",
       "<p>5 rows × 21 columns</p>\n",
       "</div>"
      ],
      "text/plain": [
       "                                                   Awards BoxOffice  \\\n",
       "178682  Nominated for 1 Oscar. Another 7 wins & 13 nom...       NaN   \n",
       "178683                            3 wins & 9 nominations.       NaN   \n",
       "178684  Won 1 Golden Globe. Another 4 wins & 23 nomina...       NaN   \n",
       "178685                           7 wins & 14 nominations.       NaN   \n",
       "178686  Nominated for 5 Oscars. Another 10 wins & 75 n...       NaN   \n",
       "\n",
       "                        Country          DVD           Director  \\\n",
       "178682             Germany, USA  18 Apr 2000        Rob Minkoff   \n",
       "178683                      USA  05 Sep 2000       Oliver Stone   \n",
       "178684  UK, Germany, Japan, USA  30 May 2000       Milos Forman   \n",
       "178685                      USA  02 May 2000       Dean Parisot   \n",
       "178686                      USA  27 Jun 2000  Anthony Minghella   \n",
       "\n",
       "                Language  Metascore  \\\n",
       "178682    English, Dutch       61.0   \n",
       "178683           English       52.0   \n",
       "178684           English       58.0   \n",
       "178685           English       70.0   \n",
       "178686  English, Italian       76.0   \n",
       "\n",
       "                                                     Plot  \\\n",
       "178682  The Little family adopt a charming young mouse...   \n",
       "178683  A behind-the-scenes look at the life-and-death...   \n",
       "178684  The life and career of a legendary comedian, A...   \n",
       "178685  The alumni cast of a space opera television se...   \n",
       "178686  In late 1950s New York, Tom Ripley, a young un...   \n",
       "\n",
       "                                                   Poster  \\\n",
       "178682  https://images-na.ssl-images-amazon.com/images...   \n",
       "178683  https://ia.media-imdb.com/images/M/MV5BZDk2YTQ...   \n",
       "178684  https://ia.media-imdb.com/images/M/MV5BNDI1Mjc...   \n",
       "178685  https://ia.media-imdb.com/images/M/MV5BNmZlNTY...   \n",
       "178686  https://images-na.ssl-images-amazon.com/images...   \n",
       "\n",
       "                   Production    ...         Released Response  Runtime  \\\n",
       "178682      Columbia Pictures    ...      17 Dec 1999     True   84 min   \n",
       "178683  Warner Bros. Pictures    ...      22 Dec 1999     True  162 min   \n",
       "178684              Universal    ...      22 Dec 1999     True  118 min   \n",
       "178685         DreamWorks SKG    ...      25 Dec 1999     True  102 min   \n",
       "178686     Paramount Pictures    ...      25 Dec 1999     True  139 min   \n",
       "\n",
       "                          Title   Type  \\\n",
       "178682            Stuart Little  movie   \n",
       "178683         Any Given Sunday  movie   \n",
       "178684          Man on the Moon  movie   \n",
       "178685             Galaxy Quest  movie   \n",
       "178686  The Talented Mr. Ripley  movie   \n",
       "\n",
       "                                                  Website  Year     imdbID  \\\n",
       "178682  http://www.spe.sony.com/movies/stuartlittle/sp...  1999  tt0164912   \n",
       "178683                      http://www.anygivensunday.net  1999  tt0146838   \n",
       "178684      http://www.universalpictures.com/manonthemoon  1999  tt0125664   \n",
       "178685  http://www.amazon.com/exec/obidos/subst/video/...  1999  tt0177789   \n",
       "178686                    http://www.talentedmrripley.com  1999  tt0134119   \n",
       "\n",
       "       imdbRating  imdbVotes  \n",
       "178682        5.9    106,665  \n",
       "178683        6.8    103,302  \n",
       "178684        7.4    110,566  \n",
       "178685        7.3    132,448  \n",
       "178686        7.4    151,938  \n",
       "\n",
       "[5 rows x 21 columns]"
      ]
     },
     "execution_count": 9,
     "metadata": {},
     "output_type": "execute_result"
    }
   ],
   "source": [
    "movies = pd.read_csv(\"./movies-1990-to-2017/Movie_Movies.csv\")\n",
    "movies = movies.iloc[:,1:]\n",
    "movies.tail()"
   ]
  },
  {
   "cell_type": "code",
   "execution_count": 10,
   "metadata": {},
   "outputs": [
    {
     "data": {
      "text/plain": [
       "Awards        158347\n",
       "BoxOffice     177239\n",
       "Country        12689\n",
       "DVD           162738\n",
       "Director       27334\n",
       "Language       25491\n",
       "Metascore     172889\n",
       "Plot           81211\n",
       "Poster        130273\n",
       "Production    162241\n",
       "Rated         154781\n",
       "Released       61713\n",
       "Runtime        59190\n",
       "Title              1\n",
       "Type               1\n",
       "Website       171940\n",
       "Year               1\n",
       "imdbID             1\n",
       "imdbRating    116614\n",
       "imdbVotes     116658\n",
       "dtype: int64"
      ]
     },
     "execution_count": 10,
     "metadata": {},
     "output_type": "execute_result"
    }
   ],
   "source": [
    "# checking for any null/missing values in any of the rows\n",
    "null_cols = movies.columns[movies.isnull().any()]\n",
    "movies[null_cols].isnull().sum()"
   ]
  },
  {
   "cell_type": "code",
   "execution_count": 23,
   "metadata": {},
   "outputs": [
    {
     "data": {
      "text/plain": [
       "Awards         object\n",
       "BoxOffice      object\n",
       "Country        object\n",
       "DVD            object\n",
       "Director       object\n",
       "Language       object\n",
       "Metascore     float64\n",
       "Plot           object\n",
       "Poster         object\n",
       "Production     object\n",
       "Rated          object\n",
       "Released       object\n",
       "Response         bool\n",
       "Runtime        object\n",
       "Title          object\n",
       "Type           object\n",
       "Website        object\n",
       "Year           object\n",
       "imdbID         object\n",
       "imdbRating    float64\n",
       "imdbVotes      object\n",
       "dtype: object"
      ]
     },
     "execution_count": 23,
     "metadata": {},
     "output_type": "execute_result"
    }
   ],
   "source": [
    "movies.dtypes"
   ]
  },
  {
   "cell_type": "code",
   "execution_count": 25,
   "metadata": {},
   "outputs": [
    {
     "data": {
      "text/plain": [
       "0                                                       NaN\n",
       "1                                                       NaN\n",
       "2                                                       NaN\n",
       "3                                                       NaN\n",
       "4                                                       NaN\n",
       "5                                                       NaN\n",
       "6                                                       NaN\n",
       "7                                                       NaN\n",
       "8                                                       NaN\n",
       "9                                                       NaN\n",
       "10                                                      NaN\n",
       "11                                                      NaN\n",
       "12                                                      NaN\n",
       "13                                                      NaN\n",
       "14                                                      NaN\n",
       "15                                                   1 win.\n",
       "16                                                      NaN\n",
       "17                                                      NaN\n",
       "18                                                      NaN\n",
       "19                                                      NaN\n",
       "20                                                      NaN\n",
       "21                                            1 nomination.\n",
       "22                                                      NaN\n",
       "23                                                      NaN\n",
       "24                                                      NaN\n",
       "25                                                      NaN\n",
       "26                                                      NaN\n",
       "27                                            1 nomination.\n",
       "28                                                      NaN\n",
       "29                                                      NaN\n",
       "                                ...                        \n",
       "178657                                       2 nominations.\n",
       "178658                                                  NaN\n",
       "178659    Nominated for 1 Oscar. Another 10 wins & 34 no...\n",
       "178660                                                  NaN\n",
       "178661                              2 wins & 4 nominations.\n",
       "178662                             7 wins & 11 nominations.\n",
       "178663                                                  NaN\n",
       "178664                               1 win & 3 nominations.\n",
       "178665    Nominated for 2 Oscars. Another 5 wins & 9 nom...\n",
       "178666                               1 win & 2 nominations.\n",
       "178667                               1 win & 3 nominations.\n",
       "178668    Nominated for 7 Oscars. Another 23 wins & 50 n...\n",
       "178669                                       8 nominations.\n",
       "178670                             5 wins & 13 nominations.\n",
       "178671                                       2 nominations.\n",
       "178672       Won 1 Oscar. Another 24 wins & 39 nominations.\n",
       "178673                               1 win & 7 nominations.\n",
       "178674                              3 wins & 4 nominations.\n",
       "178675                                       5 nominations.\n",
       "178676    Nominated for 2 Oscars. Another 2 wins & 25 no...\n",
       "178677    Nominated for 4 Oscars. Another 15 wins & 32 n...\n",
       "178678       Won 2 Oscars. Another 6 wins & 29 nominations.\n",
       "178679                                       2 nominations.\n",
       "178680                                               1 win.\n",
       "178681    Nominated for 1 Oscar. Another 2 wins & 7 nomi...\n",
       "178682    Nominated for 1 Oscar. Another 7 wins & 13 nom...\n",
       "178683                              3 wins & 9 nominations.\n",
       "178684    Won 1 Golden Globe. Another 4 wins & 23 nomina...\n",
       "178685                             7 wins & 14 nominations.\n",
       "178686    Nominated for 5 Oscars. Another 10 wins & 75 n...\n",
       "Name: Awards, Length: 178687, dtype: object"
      ]
     },
     "execution_count": 25,
     "metadata": {},
     "output_type": "execute_result"
    }
   ],
   "source": [
    "movies['Awards']"
   ]
  },
  {
   "cell_type": "code",
   "execution_count": null,
   "metadata": {},
   "outputs": [],
   "source": [
    "movies['Oscar-wins'] = np.where"
   ]
  },
  {
   "cell_type": "code",
   "execution_count": 11,
   "metadata": {},
   "outputs": [
    {
     "data": {
      "text/html": [
       "<div>\n",
       "<style scoped>\n",
       "    .dataframe tbody tr th:only-of-type {\n",
       "        vertical-align: middle;\n",
       "    }\n",
       "\n",
       "    .dataframe tbody tr th {\n",
       "        vertical-align: top;\n",
       "    }\n",
       "\n",
       "    .dataframe thead th {\n",
       "        text-align: right;\n",
       "    }\n",
       "</style>\n",
       "<table border=\"1\" class=\"dataframe\">\n",
       "  <thead>\n",
       "    <tr style=\"text-align: right;\">\n",
       "      <th></th>\n",
       "      <th>Person</th>\n",
       "      <th>Responsibility</th>\n",
       "      <th>imdbID</th>\n",
       "    </tr>\n",
       "  </thead>\n",
       "  <tbody>\n",
       "    <tr>\n",
       "      <th>66159</th>\n",
       "      <td>David Howard</td>\n",
       "      <td>story</td>\n",
       "      <td>tt0177789</td>\n",
       "    </tr>\n",
       "    <tr>\n",
       "      <th>66160</th>\n",
       "      <td>David Howard</td>\n",
       "      <td>screenplay</td>\n",
       "      <td>tt0177789</td>\n",
       "    </tr>\n",
       "    <tr>\n",
       "      <th>66161</th>\n",
       "      <td>Robert Gordon</td>\n",
       "      <td>screenplay</td>\n",
       "      <td>tt0177789</td>\n",
       "    </tr>\n",
       "    <tr>\n",
       "      <th>66162</th>\n",
       "      <td>Patricia Highsmith</td>\n",
       "      <td>novel</td>\n",
       "      <td>tt0134119</td>\n",
       "    </tr>\n",
       "    <tr>\n",
       "      <th>66163</th>\n",
       "      <td>Anthony Minghella</td>\n",
       "      <td>screenplay</td>\n",
       "      <td>tt0134119</td>\n",
       "    </tr>\n",
       "  </tbody>\n",
       "</table>\n",
       "</div>"
      ],
      "text/plain": [
       "                   Person Responsibility     imdbID\n",
       "66159        David Howard          story  tt0177789\n",
       "66160        David Howard     screenplay  tt0177789\n",
       "66161       Robert Gordon     screenplay  tt0177789\n",
       "66162  Patricia Highsmith          novel  tt0134119\n",
       "66163   Anthony Minghella     screenplay  tt0134119"
      ]
     },
     "execution_count": 11,
     "metadata": {},
     "output_type": "execute_result"
    }
   ],
   "source": [
    "writer = pd.read_csv(\"./movies-1990-to-2017/Movie_Writer.csv\")\n",
    "writer = writer.iloc[:,1:]\n",
    "writer.tail()"
   ]
  },
  {
   "cell_type": "code",
   "execution_count": 12,
   "metadata": {},
   "outputs": [
    {
     "data": {
      "text/plain": [
       "Series([], dtype: float64)"
      ]
     },
     "execution_count": 12,
     "metadata": {},
     "output_type": "execute_result"
    }
   ],
   "source": [
    "# checking for any null/missing values in any of the rows\n",
    "null_cols = writer.columns[writer.isnull().any()]\n",
    "writer[null_cols].isnull().sum()"
   ]
  },
  {
   "cell_type": "code",
   "execution_count": 13,
   "metadata": {},
   "outputs": [
    {
     "name": "stdout",
     "output_type": "stream",
     "text": [
      "['story' 'scenario' 'screenplay' ... 'based on the book \"The Iron Man\" by'\n",
      " 'story \"The Legend of Sleepy Hollow\"'\n",
      " 'short story \"The Bicentennial Man\"']\n"
     ]
    }
   ],
   "source": [
    "import matplotlib.pyplot as plt\n",
    "writer_ = writer\n",
    "print(writer_['Responsibility'].unique())"
   ]
  },
  {
   "cell_type": "code",
   "execution_count": null,
   "metadata": {},
   "outputs": [],
   "source": []
  }
 ],
 "metadata": {
  "kernelspec": {
   "display_name": "Python 3",
   "language": "python",
   "name": "python3"
  },
  "language_info": {
   "codemirror_mode": {
    "name": "ipython",
    "version": 3
   },
   "file_extension": ".py",
   "mimetype": "text/x-python",
   "name": "python",
   "nbconvert_exporter": "python",
   "pygments_lexer": "ipython3",
   "version": "3.5.2"
  }
 },
 "nbformat": 4,
 "nbformat_minor": 2
}
